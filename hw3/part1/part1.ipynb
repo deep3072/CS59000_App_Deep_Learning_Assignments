{
  "nbformat": 4,
  "nbformat_minor": 0,
  "metadata": {
    "colab": {
      "provenance": [],
      "gpuType": "T4"
    },
    "kernelspec": {
      "name": "python3",
      "display_name": "Python 3"
    },
    "language_info": {
      "name": "python"
    },
    "accelerator": "GPU"
  },
  "cells": [
    {
      "cell_type": "markdown",
      "source": [
        "## HW3 - Part1"
      ],
      "metadata": {
        "id": "D7JmVzbA3CLT"
      }
    },
    {
      "cell_type": "code",
      "source": [
        "!pip install gtts"
      ],
      "metadata": {
        "colab": {
          "base_uri": "https://localhost:8080/"
        },
        "id": "p3OPPK5k4e4R",
        "outputId": "834d04f4-c369-43b5-d22f-bdf446eea1ad"
      },
      "execution_count": 1,
      "outputs": [
        {
          "output_type": "stream",
          "name": "stdout",
          "text": [
            "Collecting gtts\n",
            "  Downloading gTTS-2.5.3-py3-none-any.whl.metadata (4.1 kB)\n",
            "Requirement already satisfied: requests<3,>=2.27 in /usr/local/lib/python3.10/dist-packages (from gtts) (2.32.3)\n",
            "Requirement already satisfied: click<8.2,>=7.1 in /usr/local/lib/python3.10/dist-packages (from gtts) (8.1.7)\n",
            "Requirement already satisfied: charset-normalizer<4,>=2 in /usr/local/lib/python3.10/dist-packages (from requests<3,>=2.27->gtts) (3.3.2)\n",
            "Requirement already satisfied: idna<4,>=2.5 in /usr/local/lib/python3.10/dist-packages (from requests<3,>=2.27->gtts) (3.8)\n",
            "Requirement already satisfied: urllib3<3,>=1.21.1 in /usr/local/lib/python3.10/dist-packages (from requests<3,>=2.27->gtts) (2.0.7)\n",
            "Requirement already satisfied: certifi>=2017.4.17 in /usr/local/lib/python3.10/dist-packages (from requests<3,>=2.27->gtts) (2024.8.30)\n",
            "Downloading gTTS-2.5.3-py3-none-any.whl (29 kB)\n",
            "Installing collected packages: gtts\n",
            "Successfully installed gtts-2.5.3\n"
          ]
        }
      ]
    },
    {
      "cell_type": "code",
      "execution_count": 5,
      "metadata": {
        "colab": {
          "base_uri": "https://localhost:8080/",
          "height": 157
        },
        "id": "naJM92Oa2-SK",
        "outputId": "44018037-2812-4d56-a58e-49c8eb9316d3"
      },
      "outputs": [
        {
          "output_type": "stream",
          "name": "stdout",
          "text": [
            "Moviepy - Building video ./Chess_Video.mp4.\n",
            "MoviePy - Writing audio in Chess_VideoTEMP_MPY_wvf_snd.mp3\n"
          ]
        },
        {
          "output_type": "stream",
          "name": "stderr",
          "text": []
        },
        {
          "output_type": "stream",
          "name": "stdout",
          "text": [
            "MoviePy - Done.\n",
            "Moviepy - Writing video ./Chess_Video.mp4\n",
            "\n"
          ]
        },
        {
          "output_type": "stream",
          "name": "stderr",
          "text": []
        },
        {
          "output_type": "stream",
          "name": "stdout",
          "text": [
            "Moviepy - Done !\n",
            "Moviepy - video ready ./Chess_Video.mp4\n"
          ]
        },
        {
          "output_type": "execute_result",
          "data": {
            "text/plain": [
              "'./Chess_Video.mp4'"
            ],
            "application/vnd.google.colaboratory.intrinsic+json": {
              "type": "string"
            }
          },
          "metadata": {},
          "execution_count": 5
        }
      ],
      "source": [
        "import moviepy.editor as mp\n",
        "import gtts\n",
        "\n",
        "# List of images and their respective durations in seconds\n",
        "images = [\n",
        "    (\"./image1.png\", 9),\n",
        "    (\"./image2.png\", 10),\n",
        "    (\"./image3.png\", 8),\n",
        "    (\"./image4.png\", 8),\n",
        "    (\"./image5.png\", 7)\n",
        "]\n",
        "\n",
        "# Corresponding voiceover text for each image\n",
        "voiceover_texts = [\n",
        "    \"Welcome to the world of chess, a game of strategy and skill. Whether you're new or experienced, there's always more to learn.\",\n",
        "    \"Explore the unique movements of each chess piece and their roles, which can give you an edge on the board.\",\n",
        "    \"Discover strategies from opening moves to mid-game tactics that can help you control the game and lead to victory.\",\n",
        "    \"Experience the excitement of competitive tournaments, both online and in person, where you can test your skills.\",\n",
        "    \"Finally, master endgame techniques to secure your win — the decisive phase where many matches are won or lost.\"\n",
        "]\n",
        "\n",
        "# Generate voiceover using gTTS\n",
        "voiceover_clips = []\n",
        "for i, text in enumerate(voiceover_texts):\n",
        "    tts = gtts.gTTS(text, lang='en')\n",
        "    tts.save(f\"./voiceover_{i}.mp3\")\n",
        "    voiceover_clips.append(mp.AudioFileClip(f\"./voiceover_{i}.mp3\"))\n",
        "\n",
        "# Create a video clip for each image\n",
        "image_clips = []\n",
        "for i, (image_path, duration) in enumerate(images):\n",
        "    img_clip = mp.ImageClip(image_path).set_duration(duration)\n",
        "    img_clip = img_clip.set_audio(voiceover_clips[i])\n",
        "    image_clips.append(img_clip)\n",
        "\n",
        "# Concatenate all image clips into one video\n",
        "final_clip = mp.concatenate_videoclips(image_clips)\n",
        "\n",
        "# Write the final video to a file\n",
        "output_file_path = \"./Chess_Video.mp4\"\n",
        "final_clip.write_videofile(output_file_path, fps=24)\n",
        "\n",
        "output_file_path"
      ]
    },
    {
      "cell_type": "code",
      "source": [],
      "metadata": {
        "id": "DjhlFvU2J5Cq"
      },
      "execution_count": null,
      "outputs": []
    }
  ]
}